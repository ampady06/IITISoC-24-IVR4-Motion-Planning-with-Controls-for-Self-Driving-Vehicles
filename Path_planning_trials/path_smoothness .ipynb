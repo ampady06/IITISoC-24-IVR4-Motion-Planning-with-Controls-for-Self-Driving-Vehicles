{
 "cells": [
  {
   "cell_type": "code",
   "execution_count": 6,
   "id": "f117853b-69bd-46fb-917e-0095d10050c8",
   "metadata": {},
   "outputs": [
    {
     "name": "stdout",
     "output_type": "stream",
     "text": [
      "Path Smoothness: 330.65262679032776\n"
     ]
    }
   ],
   "source": [
    "import pandas as pd\n",
    "import numpy as np\n",
    "\n",
    "# Load the CSV file\n",
    "file_path =  r'C:\\Users\\boddu\\Downloads\\path_coordinates_A_star.csv' # Update this path\n",
    "path_df = pd.read_csv(file_path)\n",
    "\n",
    "# Extract coordinates\n",
    "x = path_df['x'].values\n",
    "y = path_df['y'].values\n",
    "\n",
    "# Function to calculate the angle between two points\n",
    "def calculate_angle(x1, y1, x2, y2):\n",
    "    return np.arctan2(y2 - y1, x2 - x1)\n",
    "\n",
    "# Calculate angles between consecutive segments\n",
    "angles = []\n",
    "for i in range(len(x) - 1):\n",
    "    angle = calculate_angle(x[i], y[i], x[i+1], y[i+1])\n",
    "    angles.append(angle)\n",
    "\n",
    "# Calculate path smoothness\n",
    "smoothness = 0\n",
    "for i in range(len(angles) - 1):\n",
    "    smoothness += abs(angles[i+1] - angles[i])\n",
    "\n",
    "print(f\"Path Smoothness: {smoothness}\")\n",
    "\n",
    " "
   ]
  },
  {
   "cell_type": "code",
   "execution_count": 7,
   "id": "ea81fd97-7f3a-407a-ab5f-571fff531529",
   "metadata": {},
   "outputs": [
    {
     "name": "stdout",
     "output_type": "stream",
     "text": [
      "Path Smoothness: 815.2432936065427\n"
     ]
    }
   ],
   "source": [
    "import pandas as pd\n",
    "import numpy as np\n",
    "\n",
    "# Load the CSV file\n",
    "file_path = r'C:\\Users\\boddu\\Downloads\\path_coordinates.csv'  # Update this path\n",
    "path_df = pd.read_csv(file_path)\n",
    "\n",
    "# Extract coordinates\n",
    "x = path_df['x'].values\n",
    "y = path_df['y'].values\n",
    "\n",
    "# Function to calculate the angle between two points\n",
    "def calculate_angle(x1, y1, x2, y2):\n",
    "    return np.arctan2(y2 - y1, x2 - x1)\n",
    "\n",
    "# Calculate angles between consecutive segments\n",
    "angles = []\n",
    "for i in range(len(x) - 1):\n",
    "    angle = calculate_angle(x[i], y[i], x[i+1], y[i+1])\n",
    "    angles.append(angle)\n",
    "\n",
    "# Calculate path smoothness\n",
    "smoothness = 0\n",
    "for i in range(len(angles) - 1):\n",
    "    smoothness += abs(angles[i+1] - angles[i])\n",
    "\n",
    "print(f\"Path Smoothness: {smoothness}\")\n",
    "\n"
   ]
  }
 ],
 "metadata": {
  "kernelspec": {
   "display_name": "Python 3 (ipykernel)",
   "language": "python",
   "name": "python3"
  },
  "language_info": {
   "codemirror_mode": {
    "name": "ipython",
    "version": 3
   },
   "file_extension": ".py",
   "mimetype": "text/x-python",
   "name": "python",
   "nbconvert_exporter": "python",
   "pygments_lexer": "ipython3",
   "version": "3.11.7"
  }
 },
 "nbformat": 4,
 "nbformat_minor": 5
}
