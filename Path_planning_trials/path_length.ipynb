{
 "cells": [
  {
   "cell_type": "code",
   "execution_count": 1,
   "id": "0482b005-f107-48a2-aefd-783d516d9e58",
   "metadata": {},
   "outputs": [
    {
     "name": "stdout",
     "output_type": "stream",
     "text": [
      "Path Length: 2481.3767670841394\n"
     ]
    }
   ],
   "source": [
    "import csv\n",
    "import numpy as np\n",
    "\n",
    "# Path to your CSV file\n",
    "path_coordinates_file = r'C:\\Users\\boddu\\Downloads\\path_coordinates_A_star.csv'\n",
    "\n",
    "# Load the path coordinates\n",
    "path = []\n",
    "with open(path_coordinates_file, mode='r') as file:\n",
    "    csv_reader = csv.reader(file)\n",
    "    next(csv_reader)  # Skip header\n",
    "    for row in csv_reader:\n",
    "        x, y = map(float, row)\n",
    "        path.append((x, y))\n",
    "\n",
    "# Function to calculate the total path length\n",
    "def calculate_path_length(path):\n",
    "    if len(path) < 2:\n",
    "        return 0.0\n",
    "\n",
    "    total_length = 0.0\n",
    "    for i in range(1, len(path)):\n",
    "        point1 = np.array(path[i - 1])\n",
    "        point2 = np.array(path[i])\n",
    "        distance = np.linalg.norm(point2 - point1)\n",
    "        total_length += distance\n",
    "\n",
    "    return total_length\n",
    "\n",
    "# Calculate the path length\n",
    "path_length = calculate_path_length(path)\n",
    "print(f\"Path Length: {path_length}\")\n"
   ]
  },
  {
   "cell_type": "code",
   "execution_count": 4,
   "id": "556030a7-1566-407a-85d5-05d479de19e8",
   "metadata": {},
   "outputs": [
    {
     "name": "stdout",
     "output_type": "stream",
     "text": [
      "Path Length: 2739.84603000493\n"
     ]
    }
   ],
   "source": [
    "import csv\n",
    "import numpy as np\n",
    "\n",
    "# Path to your CSV file\n",
    "path_coordinates_file = r'C:\\Users\\boddu\\Downloads\\path_coordinates.csv'\n",
    "\n",
    "# Load the path coordinates\n",
    "path = []\n",
    "with open(path_coordinates_file, mode='r') as file:\n",
    "    csv_reader = csv.reader(file)\n",
    "    next(csv_reader)  # Skip header\n",
    "    for row in csv_reader:\n",
    "        x, y = map(float, row)\n",
    "        path.append((x, y))\n",
    "\n",
    "# Function to calculate the total path length\n",
    "def calculate_path_length(path):\n",
    "    if len(path) < 2:\n",
    "        return 0.0\n",
    "\n",
    "    total_length = 0.0\n",
    "    for i in range(1, len(path)):\n",
    "        point1 = np.array(path[i - 1])\n",
    "        point2 = np.array(path[i])\n",
    "        distance = np.linalg.norm(point2 - point1)\n",
    "        total_length += distance\n",
    "\n",
    "    return total_length\n",
    "\n",
    "# Calculate the path length\n",
    "path_length = calculate_path_length(path)\n",
    "print(f\"Path Length: {path_length}\")\n"
   ]
  },
  {
   "cell_type": "code",
   "execution_count": null,
   "id": "d8d04f81-4071-4f1e-bf25-256e3327dd6c",
   "metadata": {},
   "outputs": [],
   "source": []
  }
 ],
 "metadata": {
  "kernelspec": {
   "display_name": "Python 3 (ipykernel)",
   "language": "python",
   "name": "python3"
  },
  "language_info": {
   "codemirror_mode": {
    "name": "ipython",
    "version": 3
   },
   "file_extension": ".py",
   "mimetype": "text/x-python",
   "name": "python",
   "nbconvert_exporter": "python",
   "pygments_lexer": "ipython3",
   "version": "3.11.7"
  }
 },
 "nbformat": 4,
 "nbformat_minor": 5
}
