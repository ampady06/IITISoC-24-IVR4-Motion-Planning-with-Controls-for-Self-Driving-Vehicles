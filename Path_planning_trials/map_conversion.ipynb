{
 "cells": [
  {
   "cell_type": "code",
   "execution_count": 4,
   "id": "ad2bff55-92d3-4296-bc0c-14ab41c34da3",
   "metadata": {},
   "outputs": [
    {
     "data": {
      "text/plain": [
       "((764, 856),\n",
       " array([[205, 205, 205, ..., 205, 205, 205],\n",
       "        [205, 205, 205, ..., 205, 205, 205],\n",
       "        [205, 205, 205, ..., 205, 205, 205],\n",
       "        [205, 205, 205, ..., 205, 205, 205],\n",
       "        [205, 205, 205, ..., 205, 205, 205]], dtype=uint8))"
      ]
     },
     "execution_count": 4,
     "metadata": {},
     "output_type": "execute_result"
    }
   ],
   "source": [
    "import numpy as np\n",
    "\n",
    "# Load the provided npy file\n",
    "file_path =  r'C:\\Users\\boddu\\Downloads\\map_soc_walls_3.npy'\n",
    "data = np.load(file_path)\n",
    "\n",
    "# Print the shape and a small sample of the data to understand its structure\n",
    "data_shape = data.shape\n",
    "data_sample = data[:5]  # Take a small sample for inspection\n",
    "\n",
    "data_shape, data_sample\n"
   ]
  },
  {
   "cell_type": "code",
   "execution_count": 5,
   "id": "538ec597-4c27-4700-b6cb-4c260db663e3",
   "metadata": {},
   "outputs": [
    {
     "data": {
      "text/plain": [
       "'C:\\\\Users\\\\boddu\\\\Downloads\\\\map_soc_walls_3_modified.npy'"
      ]
     },
     "execution_count": 5,
     "metadata": {},
     "output_type": "execute_result"
    }
   ],
   "source": [
    "# Replace all occurrences of 205 with 0\n",
    "data[data == 205] = 0\n",
    "\n",
    "# Save the modified array to a new .npy file\n",
    "new_file_path = r'C:\\Users\\boddu\\Downloads\\map_soc_walls_3_modified.npy'\n",
    "np.save(new_file_path, data)\n",
    "\n",
    "new_file_path\n"
   ]
  },
  {
   "cell_type": "code",
   "execution_count": 1,
   "id": "b1967aab-a2ab-44ba-a4cd-00064a02d459",
   "metadata": {},
   "outputs": [
    {
     "data": {
      "text/plain": [
       "((764, 856),\n",
       " array([[0, 0, 0, ..., 0, 0, 0],\n",
       "        [0, 0, 0, ..., 0, 0, 0],\n",
       "        [0, 0, 0, ..., 0, 0, 0],\n",
       "        [0, 0, 0, ..., 0, 0, 0],\n",
       "        [0, 0, 0, ..., 0, 0, 0]], dtype=uint8))"
      ]
     },
     "execution_count": 1,
     "metadata": {},
     "output_type": "execute_result"
    }
   ],
   "source": [
    "import numpy as np\n",
    "\n",
    "# Load the .npy file\n",
    "file_path = r'C:\\Users\\boddu\\Downloads\\map_soc_walls_3_modified.npy'\n",
    "data = np.load(file_path)\n",
    "\n",
    "# Display the data shape and a small sample before making changes\n",
    "data_shape = data.shape\n",
    "sample_before = data[:5]\n",
    "\n",
    "data_shape, sample_before\n"
   ]
  },
  {
   "cell_type": "code",
   "execution_count": 3,
   "id": "63a8e418-6b25-449c-891b-8be90af4c850",
   "metadata": {},
   "outputs": [
    {
     "data": {
      "text/plain": [
       "(array([[254, 254, 254, ..., 254, 254, 254],\n",
       "        [254, 254, 254, ..., 254, 254, 254],\n",
       "        [254, 254, 254, ..., 254, 254, 254],\n",
       "        [254, 254, 254, ..., 254, 254, 254],\n",
       "        [254, 254, 254, ..., 254, 254, 254]], dtype=uint8),\n",
       " 'C:\\\\Users\\\\boddu\\\\Downloads\\\\map_soc_walls_3_modified_converted.npy')"
      ]
     },
     "execution_count": 3,
     "metadata": {},
     "output_type": "execute_result"
    }
   ],
   "source": [
    "# Convert all 254 to 0 and all 0 to 254\n",
    "data_converted = np.where(data == 254, 0, np.where(data == 0, 254, data))\n",
    "\n",
    "# Display a small sample after making changes\n",
    "sample_after = data_converted[:5]\n",
    "\n",
    "# Save the modified array to a new .npy file\n",
    "modified_file_path = r'C:\\Users\\boddu\\Downloads\\map_soc_walls_3_modified_converted.npy'\n",
    "np.save(modified_file_path, data_converted)\n",
    "\n",
    "sample_after, modified_file_path\n"
   ]
  },
  {
   "cell_type": "code",
   "execution_count": null,
   "id": "619cf2c4-41fd-4832-a7ae-d0a1e518d621",
   "metadata": {},
   "outputs": [],
   "source": []
  }
 ],
 "metadata": {
  "kernelspec": {
   "display_name": "Python 3 (ipykernel)",
   "language": "python",
   "name": "python3"
  },
  "language_info": {
   "codemirror_mode": {
    "name": "ipython",
    "version": 3
   },
   "file_extension": ".py",
   "mimetype": "text/x-python",
   "name": "python",
   "nbconvert_exporter": "python",
   "pygments_lexer": "ipython3",
   "version": "3.11.7"
  }
 },
 "nbformat": 4,
 "nbformat_minor": 5
}
